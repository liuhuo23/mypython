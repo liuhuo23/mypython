{
 "cells": [
  {
   "cell_type": "code",
   "execution_count": 1,
   "outputs": [
    {
     "data": {
      "text/plain": "''"
     },
     "execution_count": 1,
     "metadata": {},
     "output_type": "execute_result"
    }
   ],
   "source": [
    "\"\"\"\n",
    "redis 是一个高级的键值数据库\n",
    "默认端口 6379\n",
    "守护进程运行，则不会在命令行阻塞，类似于服务\n",
    "daemonize yes\n",
    "配置\n",
    "protected-mode yes  打开保护模式\n",
    "requirepass xxxx 设置redis启动密码\n",
    "\"\"\"\n",
    "\"\"\"\n",
    "字符串（strings）\n",
    "散列（hashes）\n",
    "列表（lists）\n",
    "集合 (sets)\n",
    "有序集合（sorted sets）\n",
    "基本命令\n",
    "keys *  查看所有Key\n",
    "type key    查看key类型\n",
    "expire key seconds  过期时间\n",
    "ttl  key 过期时间\n",
    "persist  取消key的过期时间\n",
    "exists key 判断key存在 存在返回1\n",
    "del  key  删除key\n",
    "dbsize  计算key的数量\n",
    "\n",
    "set key value 添加数据\n",
    "setex key seconds value  添加数据并设置过期时间\n",
    "append key value 追加值\n",
    "get key  不存在则返回nil\n",
    "mget key1 key2  获取 key1 key2 的值\n",
    "keys pattern  pattern 正则表达式\n",
    "\"\"\"\n",
    "\"\"\"\n",
    "hash 用于存储对象，对象的结构为属性，值 值的类型为string\n",
    "hset key field value  设置单个属性\n",
    " hget key field  获取单个属性\n",
    "hmset key field1 value1 field2 value2 设置多个属性\n",
    "hmget key field1 field2  获取多个属性\n",
    "hkeys key 获取指定键所有的属性\n",
    "hvals key  获取指定键所有属性的值\n",
    "\n",
    "\n",
    "\"\"\""
   ],
   "metadata": {
    "collapsed": false,
    "pycharm": {
     "name": "#%%\n"
    }
   }
  },
  {
   "cell_type": "code",
   "execution_count": 7,
   "outputs": [
    {
     "name": "stdout",
     "output_type": "stream",
     "text": [
      "True\n",
      "True\n",
      "hello\n"
     ]
    }
   ],
   "source": [
    "from redis import StrictRedis\n",
    "try:\n",
    "    sr = StrictRedis(password='zhaoliuhuo')\n",
    "    res = sr.set(\"name\", 'xszx')\n",
    "    print(res)\n",
    "    res = sr.set('name', 'hello')\n",
    "    print(res)\n",
    "    res = sr.get('name')\n",
    "    print(res.decode('utf-8'))\n",
    "except Exception as e:\n",
    "    print(e)\n"
   ],
   "metadata": {
    "collapsed": false,
    "pycharm": {
     "name": "#%%\n"
    }
   }
  }
 ],
 "metadata": {
  "kernelspec": {
   "display_name": "Python 3",
   "language": "python",
   "name": "python3"
  },
  "language_info": {
   "codemirror_mode": {
    "name": "ipython",
    "version": 2
   },
   "file_extension": ".py",
   "mimetype": "text/x-python",
   "name": "python",
   "nbconvert_exporter": "python",
   "pygments_lexer": "ipython2",
   "version": "2.7.6"
  }
 },
 "nbformat": 4,
 "nbformat_minor": 0
}