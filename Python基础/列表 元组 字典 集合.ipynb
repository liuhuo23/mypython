{
 "cells": [
  {
   "cell_type": "code",
   "execution_count": 4,
   "metadata": {
    "collapsed": true,
    "pycharm": {
     "name": "#%%\n"
    }
   },
   "outputs": [
    {
     "name": "stdout",
     "output_type": "stream",
     "text": [
      "hello\n",
      "1\n",
      "2\n",
      "bnamne\n",
      "bnamne\n",
      "2\n",
      "1\n",
      "hello\n"
     ]
    }
   ],
   "source": [
    "\"\"\"\n",
    "列表\n",
    "增加： insert(索引, 数据) 在指定的位置插入数据\n",
    "      append(数据)  在列表末尾追加数据\n",
    "      extend(列表2) 将列表2中的数据追加\n",
    "\n",
    "修改：  列表[索引] = 数据 修改指定索引的数据\n",
    "\n",
    "删除:  remove(数据)   删除第一个出现的指定数据\n",
    "      del.列表[索引]  删除指定索引的数据\n",
    "      pop() 删除末尾的数据\n",
    "      pop(索引)  删除指定索引数据\n",
    "      clear()   清空列表数据\n",
    "统计： count(数据) 统计数据在列表中出现的次数\n",
    "      len(列表)  获取列表长度n+1\n",
    "排序：  sort()  排序\n",
    "       sort(reverse=True) 降序排序\n",
    "       reverse()  逆序，反转\n",
    "\"\"\"\n",
    "#  正向遍历列表\n",
    "a = ['hello',1, 2, \"bnamne\"]\n",
    "for i in a:\n",
    "    print(i)\n",
    "\n",
    "for i in range(len(a)-1, -1, -1):\n",
    "    print(a[i])"
   ]
  },
  {
   "cell_type": "code",
   "execution_count": 8,
   "outputs": [
    {
     "name": "stdout",
     "output_type": "stream",
     "text": [
      "[1, 2, 3, 4, 5]\n",
      "[1, 2, 3, 4, 5]\n",
      "[2, 2, 3, 4, 5]\n",
      "[10, 2, 3, 4, 5]\n",
      "[2, 2, 3, 4, 5]\n"
     ]
    }
   ],
   "source": [
    "\"\"\"\n",
    "深浅拷贝\n",
    "浅拷贝：  复制过程中，只复制一层变量，不会复制深层变量绑定的对象的复制过程\n",
    "列表.copy() 切片 都是浅拷贝\n",
    "深拷贝：  复制整个依赖的变量\n",
    "import copy\n",
    "deep = copy.deepcopy(a)\n",
    "\"\"\"\n",
    "a = [1,2,3,4,5]\n",
    "b= a\n",
    "print(b)\n",
    "print(a)\n",
    "# 修改b\n",
    "b[0] =2\n",
    "print(a)\n",
    "# 以上交浅拷贝， 特征就是改变其中的一个会影响所有的\n",
    "import copy\n",
    "b = copy.deepcopy(a)\n",
    "a[0] = 10\n",
    "print(a)\n",
    "print(b)"
   ],
   "metadata": {
    "collapsed": false,
    "pycharm": {
     "name": "#%%\n"
    }
   }
  },
  {
   "cell_type": "code",
   "execution_count": 11,
   "outputs": [
    {
     "name": "stdout",
     "output_type": "stream",
     "text": [
      "[1, 2, 3, 4, 5]\n",
      "[2, 4]\n",
      "[4, 6, 6, 6, 8, 8]\n"
     ]
    }
   ],
   "source": [
    "\"\"\"\n",
    "列表生成式\n",
    "\"\"\"\n",
    "# 变量 = [变量a for a in 列表]\n",
    "res = [a for a in [1,2,3,4,5]]\n",
    "print(res)\n",
    "# 添加条件\n",
    "res = [a for a in [1,2,3,4,5] if a%2==0]\n",
    "print(res)\n",
    "# 两个变量 得到的结果是 a中的元素 加上c的各项 然后在组合成新的列表\n",
    "res = [a+c for a in [1,2,3,4,5] for c in [2,3,4,4,5] if a%2==0 and c%2==0]\n",
    "print(res)"
   ],
   "metadata": {
    "collapsed": false,
    "pycharm": {
     "name": "#%%\n"
    }
   }
  }
 ],
 "metadata": {
  "kernelspec": {
   "display_name": "Python 3",
   "language": "python",
   "name": "python3"
  },
  "language_info": {
   "codemirror_mode": {
    "name": "ipython",
    "version": 2
   },
   "file_extension": ".py",
   "mimetype": "text/x-python",
   "name": "python",
   "nbconvert_exporter": "python",
   "pygments_lexer": "ipython2",
   "version": "2.7.6"
  }
 },
 "nbformat": 4,
 "nbformat_minor": 0
}