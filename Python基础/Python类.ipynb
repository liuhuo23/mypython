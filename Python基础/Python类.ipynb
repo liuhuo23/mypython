{
 "cells": [
  {
   "cell_type": "code",
   "execution_count": 8,
   "outputs": [
    {
     "name": "stdout",
     "output_type": "stream",
     "text": [
      "2\n",
      "3\n"
     ]
    }
   ],
   "source": [
    "'''\n",
    "面向对象 oop\n",
    "'''\n",
    "class MyClass():\n",
    "    cls_count = 0\n",
    "    # 初始化\n",
    "    def __init__(self):\n",
    "        self._count = 2\n",
    "    # 类方法 通过 类名.方法名调用\n",
    "    # 类方法不能访问实例成员\n",
    "    @classmethod\n",
    "    def fromctr(cls):\n",
    "        print(\"工具对象的总数%d\"%cls.cls_count)\n",
    "        pass\n",
    "    # 静态方法\n",
    "    @staticmethod\n",
    "    def static_fun():\n",
    "        pass\n",
    "    \"\"\"\n",
    "    @property以装饰器形式使用property，被装饰得方法将成为只读的方法，可以像访问属性一样访问方法，得到的值为方法的返回值。\n",
    "    要改写这个属性的话需要用装饰器@属性名.setter装饰同名方\n",
    "    \"\"\"\n",
    "    @property # 允许以属性的设置行为，这样能检查传入的值，是否是期望的，在这里做检查\n",
    "    def count(self):\n",
    "        return self._count\n",
    "\n",
    "    @count.setter # 定义方法的设置行文，\n",
    "    def count(self,value):\n",
    "        \"\"\"如果没有这个方法，那么属性是只读的，也就是不允许赋值\"\"\"\n",
    "        if isinstance(value, int):\n",
    "            self._count = value\n",
    "\n",
    "myclass1 = MyClass()\n",
    "myclass2 = MyClass()\n",
    "print(myclass2.count)\n",
    "myclass2.count = 3\n",
    "print(myclass2.count)\n"
   ],
   "metadata": {
    "collapsed": false,
    "pycharm": {
     "name": "#%%\n"
    }
   }
  },
  {
   "cell_type": "code",
   "execution_count": null,
   "outputs": [],
   "source": [],
   "metadata": {
    "collapsed": false,
    "pycharm": {
     "name": "#%%\n"
    }
   }
  }
 ],
 "metadata": {
  "kernelspec": {
   "display_name": "Python 3",
   "language": "python",
   "name": "python3"
  },
  "language_info": {
   "codemirror_mode": {
    "name": "ipython",
    "version": 2
   },
   "file_extension": ".py",
   "mimetype": "text/x-python",
   "name": "python",
   "nbconvert_exporter": "python",
   "pygments_lexer": "ipython2",
   "version": "2.7.6"
  }
 },
 "nbformat": 4,
 "nbformat_minor": 0
}