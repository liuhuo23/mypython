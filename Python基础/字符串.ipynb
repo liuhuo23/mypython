{
 "cells": [
  {
   "cell_type": "code",
   "execution_count": null,
   "metadata": {
    "collapsed": true,
    "pycharm": {
     "name": "#%%\n"
    }
   },
   "outputs": [],
   "source": [
    "\"\"\"\n",
    "Python 字符串类型详解\n",
    "编码\n",
    "字节： Byte 计算机最小的存储单位，等于8位bit\n",
    "字符： 可打印字符，包括标点符号，字符，数字\n",
    "编码： 将字符转换为对应的二进制序列的过程\n",
    "字符集： 存储字符与二进制序列的过程\n",
    "解码： 将二进制序列转换为对应的字符的过程\n",
    "编码方式：\n",
    "ASCII 编码\n",
    "\"\"\""
   ]
  },
  {
   "cell_type": "code",
   "execution_count": 2,
   "outputs": [
    {
     "name": "stdout",
     "output_type": "stream",
     "text": [
      "36825\n",
      "Z\n"
     ]
    }
   ],
   "source": [
    "# 定义一个字符串\n",
    "str1 = \"这是一个字符串包括汉字 春天 英文 ABC 数字123 空格 \"\n",
    "# ord 返回该字符的Unicode 码\n",
    "print(ord(str1[0]))\n",
    "# chr 返回该整数对应的字符串\n",
    "print(chr(90))"
   ],
   "metadata": {
    "collapsed": false,
    "pycharm": {
     "name": "#%%\n"
    }
   }
  },
  {
   "cell_type": "code",
   "execution_count": 3,
   "outputs": [
    {
     "name": "stdout",
     "output_type": "stream",
     "text": [
      "#\n",
      "å\n"
     ]
    }
   ],
   "source": [
    "\"\"\"\n",
    "转义字符：\n",
    "\\n 回车\n",
    "\\t tab键\n",
    "\\ddd  1-3 位 八进制数所代表的字符\n",
    "\\x23  1-2位 代表16进制数所代表的字符\n",
    "\"\"\"\n",
    "# 字符串前面加 r  取消转义\n",
    "a = r\"c:\\new\"\n",
    "print(\"\\x23\")\n",
    "print(\"\\345\")\n"
   ],
   "metadata": {
    "collapsed": false,
    "pycharm": {
     "name": "#%%\n"
    }
   }
  },
  {
   "cell_type": "code",
   "execution_count": 4,
   "outputs": [
    {
     "name": "stdout",
     "output_type": "stream",
     "text": [
      "我的名字:hello,年龄12,身高：172.560000 厘米\n"
     ]
    }
   ],
   "source": [
    "\"\"\"\n",
    "1 字符串格式化\n",
    "2 语法：\n",
    "    2.1 \"字符串%s\"（变量）\n",
    "    2.2 \"我的名字是%s，年龄是%s\"%(name, age)\n",
    "3 类型码：\n",
    "    %s 字符串 %d 整数  %f 浮点数\n",
    "\"\"\"\n",
    "# 举个例子\n",
    "name = \"hello\"\n",
    "age = 12\n",
    "height = 172.56\n",
    "print(\"我的名字:%s,年龄%d,身高：%f 厘米\"%(name, age, height))\n"
   ],
   "metadata": {
    "collapsed": false,
    "pycharm": {
     "name": "#%%\n"
    }
   }
  },
  {
   "cell_type": "code",
   "execution_count": 12,
   "outputs": [
    {
     "name": "stdout",
     "output_type": "stream",
     "text": [
      "我是一个程序员\n",
      "我是一个程序员\n",
      "我是一个程序员我是一个程序员我是一个程序员\n",
      "False\n",
      "False\n",
      "True\n"
     ]
    }
   ],
   "source": [
    "\"\"\"\n",
    "字符串运算\n",
    "\"\"\"\n",
    "a = \"我是\"\n",
    "b = \"一个程序员\"\n",
    "a = a+b\n",
    "print(a)\n",
    "\n",
    "a = \"我是\"\n",
    "b = \"一个程序员\"\n",
    "a += b\n",
    "print(a)\n",
    "\n",
    "print(3*a)\n",
    "print(a < b) # 比较连个字符串\n",
    "\n",
    "# 判断一个字符串是否是另一个字符串的子字符串\n",
    "if a in b:\n",
    "    print(True)\n",
    "else:\n",
    "    print(False)\n",
    "\n",
    "if a not in b:\n",
    "    print(True)\n",
    "else:\n",
    "    print(False)"
   ],
   "metadata": {
    "collapsed": false,
    "pycharm": {
     "name": "#%%\n"
    }
   }
  },
  {
   "cell_type": "code",
   "execution_count": 37,
   "outputs": [
    {
     "name": "stdout",
     "output_type": "stream",
     "text": [
      "我\n",
      "员\n",
      "7\n",
      "3\n",
      "我是一个程序员\n",
      "是一\n",
      "我是一个\n",
      "是一个\n",
      "是个\n",
      "反转字符串 \n"
     ]
    }
   ],
   "source": [
    "\"\"\"\n",
    "字符串索引\n",
    "正向： 从0开始\n",
    "反向： 从-1 开始\n",
    "\"\"\"\n",
    "a = \"我是一个程序员\"\n",
    "print(a[0])\n",
    "print(a[-1])\n",
    "\n",
    "\"\"\"\n",
    "字符串长度包括两种计算方式\n",
    "1. 字节 即一个字节算一个\n",
    "2. 字符 即一个字符算一个\n",
    "\"\"\"\n",
    "print(len(a))\n",
    "a = b\"abc\" # 这个是字节型可以认为是 ascii\n",
    "print(len(a))\n",
    "\n",
    "\"\"\"\n",
    "字符串切片\n",
    "a[开始:结束:步进]\n",
    "没有开始 则默认从0\n",
    "没有结尾 则默认到len(a)-1\n",
    "没有步进 则默认 1\n",
    "遵循原则 左闭右开 即 取左边 小于最右边\n",
    "注意：\n",
    "    反向，字符串从-1最后一个字符开始\n",
    "\"\"\"\n",
    "a = \"我是一个程序员\"\n",
    "print(a[0:]) # 从0开始到结尾\n",
    "print(a[1:3]) # 从第二个到第三个\n",
    "print(a[:4]) #从第一个到第三个\n",
    "print(a[1:4:1]) # 从第二个到第4个\n",
    "print(a[1:4:2]) # 从第二个到第四个 隔一个取\n",
    "print(\"反转字符串\",a[::-1]) # 反转字符串\n",
    "print()\n"
   ],
   "metadata": {
    "collapsed": false,
    "pycharm": {
     "name": "#%%\n"
    }
   }
  },
  {
   "cell_type": "code",
   "execution_count": 50,
   "outputs": [
    {
     "name": "stdout",
     "output_type": "stream",
     "text": [
      "['我是一个程序员', '一个Python', '程序员 专门写Python']\n",
      "['我是一个程序员', '一个Python 程序员 专门写Python']\n",
      "['我是一个程序员', '一个Python', '程序员', '专门写Python']\n",
      "我是一个程序员 一个Python 程序员 专门写Python\n",
      "我是一个程序员\t一个Python\t程序员\t专门写Python\n",
      "我是一个程序员\n",
      "一个Python\n",
      "程序员\n",
      "专门写Python\n"
     ]
    }
   ],
   "source": [
    "\"\"\"\n",
    "分割 合并 字符串\n",
    "str.split(seq, maxsplit)\n",
    "str:表示要分割的字符串\n",
    "seq: 指定分隔符 默认为None,即所有空字符（包括空格、换行“\\n”、制表符、“\\t”等）\n",
    "maxsplit: 可选参数，用于指定分割的次数，如果不指定或者为-1，则分割次数没有限制，否则返回结果列表的元素个数最多为maxsplit +1\n",
    "\"\"\"\n",
    "a = \"我是一个程序员 一个Python 程序员 专门写Python\"\n",
    "print(a.split(\" \",2))\n",
    "print(a.split(None, 1))\n",
    "print(a.split(maxsplit=3))\n",
    "\n",
    "\"\"\"\n",
    "strnew = string.join(iterable)\n",
    "string: 分隔符\n",
    "iterable: 可迭代的字符串列表\n",
    "strnew: 最后合成的新的字符串\n",
    "\"\"\"\n",
    "a = a.split()\n",
    "b = \" \".join(a)\n",
    "print(b)\n",
    "b = \"\\t\".join(a)\n",
    "print(b)\n",
    "b = \"\\n\".join(a)\n",
    "print(b)"
   ],
   "metadata": {
    "collapsed": false,
    "pycharm": {
     "name": "#%%\n"
    }
   }
  },
  {
   "cell_type": "code",
   "execution_count": null,
   "outputs": [],
   "source": [
    "\"\"\"\n",
    "字符串常用函数\n",
    "\"\"\"\n",
    "a = \"我是一个程序员 Python程序员 专门写Python\"\n",
    "sub_a = \"我是\"\n",
    "# 用于检索指定字符串在另一个字符串中出现的次数。如果检索的字符串不存在，则返回0\n",
    "res = a.count(sub_a, 0, len(a))\n",
    "print(res)\n",
    "#该方法用于检索是否包含指定的子字符串。如果检索的字符串不存在，则返回-1，否则返回首次出现该子字符串时的索引。\n",
    "# str.find(sub[,start[,end]])\n",
    "# sub 搜索的字符串  start 起点  end 终止点\n",
    "res = a.find(sub_a,0, len(a))\n",
    "print(res)\n",
    "# index()方法与find()方法类似，也是用于检索是否包含指定的子字符串，只不过使用index方法，当指定的字符串不存在时会抛出异常。\n",
    "res = a.index(sub_a)\n",
    "print(res)\n",
    "# 检索字符串是否以指定的子字符串开头，如果是则返回True,否则返回False\n",
    "a.startswith(r\"c:\\\\\")\n",
    "# 检索字符串是否以指定的子字符串结尾，如果是则返回True,否则返回False\n",
    "print(a.endswith(\".png\"))\n",
    "\n",
    "# 字母大小写转换 lower() -> 小写  upper() -> 大写\n",
    "print(a.lower())\n",
    "print(a.upper())\n",
    "# strip()方法用于去掉字符串左右两侧的空格和特殊字符。 lstrip 去掉左边的 rstrip 去掉右边的\n",
    "a = \"\\n\\n 我是一个程序员 \\n 专门写Python \\n\"\n",
    "print(a)\n",
    "print(a.strip())\n",
    "\"\"\"\n",
    "string.isspace()  如果string只包含空格换行和制表符 则返回True\n",
    "string.isalnum(0  如果string至少有一个字符并且所有字符的都是字母或数字返回True\n",
    "string.isalpha()  如果string至少有一个字符并且所有字符都是字母则返回True\n",
    "string.isdecimal() 如果string至少有一个字符并且所有字符都是数字返回True\n",
    "string.isnumeric()  如果string只包含数字则返回True，全角数字，汉字数字\n",
    "string.istitle() 如果string是标题化的每一个单词的首字母大写\n",
    "string.capitalize()  把字符串的第一个字符大写\n",
    "string.title() 把字符串的每一个单词首字母大写\n",
    "string.swapcase()  翻转string中的大小写\n",
    "string.ljust(width) 返回一个源字符串左对齐，并使用空格填充至长度width的新字符串\n",
    "- rjust 右对齐\n",
    "- center 源字符串居中\n",
    "string.partition(str) 把字符串分成一个3元素的元组 str前， str， str后\n",
    "\n",
    "\"\"\""
   ],
   "metadata": {
    "collapsed": false,
    "pycharm": {
     "name": "#%%\n"
    }
   }
  },
  {
   "cell_type": "code",
   "execution_count": 67,
   "outputs": [
    {
     "name": "stdout",
     "output_type": "stream",
     "text": [
      "我的名字：xiao            ， 年龄：c\n",
      "我的名字：            xiao， 年龄：c\n"
     ]
    }
   ],
   "source": [
    "\"\"\"\n",
    "格式化字符串\n",
    "语法格式为： '%[-] [+] [0] [m] [.n]格式化字符'%exp\n",
    "-: 指定左对齐 正数前方无符号，负数前面加负号\n",
    "+: 指定右对齐 正数前方加正号，负数前面加\n",
    "0：可选参数，表示右对齐，正数前方无符号,负数前面加负号，用0填充空白处（一般与m参数一起使用）\n",
    "m: 可选参数，表示占有宽度\n",
    ".n：可选参数，表示小数点后保留的位数\n",
    "%s 字符串（str()显示） %r 字符串（repr显示）\n",
    "%c 单个字符 %o 八进制整数\n",
    "%d 或者%i 十进制整数 %e 指数 （基底写e）\n",
    "%x 十六进制整数 %E 指数 （基底写E）\n",
    "%f或者%F 浮点数 %% 字符%\n",
    "\"\"\"\n",
    "name = \"xiao\"\n",
    "age = 12\n",
    "print(\"我的名字：%-16s， 年龄：%x\"%(name, age))\n",
    "print(\"我的名字：%+16s， 年龄：%.x\"%(name, age))"
   ],
   "metadata": {
    "collapsed": false,
    "pycharm": {
     "name": "#%%\n"
    }
   }
  },
  {
   "cell_type": "code",
   "execution_count": 89,
   "outputs": [
    {
     "name": "stdout",
     "output_type": "stream",
     "text": [
      "xiao 12\n",
      "xiao, 12, xiao\n",
      "xiao, 12, xiao\n",
      "1111011\n",
      "d:10, o:12, x:a, e:1.000000e+04, g:1e+20\n",
      "n:1234.34\n",
      "123,456,789\n",
      "2021-06-23 18:30:30 \n",
      "112, 23\n",
      "True\n"
     ]
    }
   ],
   "source": [
    "import datetime\n",
    "\n",
    "\"\"\"\n",
    "format 格式化\n",
    "\"\"\"\n",
    "# 位置,数字,关键字匹配\n",
    "name = \"xiao\"\n",
    "age = 12\n",
    "print(\"{} {}\".format(name, age)) # 从左到右 挨个 匹配\n",
    "print(\"{0}, {1}, {0}\".format(name, age)) # 从0 开始 根据位置匹配\n",
    "print(\"{a}, {b}, {c}\".format(a=name, b=age, c=name)) # 根据关键字匹配\n",
    "\"\"\"\n",
    "    ‘b’ - 二进制。将数字以2为基数进行输出。\n",
    "    ‘c’ - 字符。在打印之前将整数转换成对应的Unicode字符串。\n",
    "    ‘d’ - 十进制整数。将数字以10为基数进行输出。\n",
    "    ‘o’ - 八进制。将数字以8为基数进行输出。\n",
    "    ‘x’ - 十六进制。将数字以16为基数进行输出，9以上的位数用小写字母。\n",
    "    ‘e’ - 幂符号。用科学计数法打印数字。用’e’表示幂。\n",
    "    ‘g’ - 一般格式。将数值以fixed-point格式输出。当数值特别大的时候，用幂形式打印。\n",
    "    ‘n’ - 数字。当值为整数时和’d’相同，值为浮点数时和’g’相同。不同的是它会根据区域设置插入数字分隔符。\n",
    "    ‘%’ - 百分数。将数值乘以100然后以fixed-point(‘f’)格式打印，值后面会有一个百分号。\n",
    "\"\"\"\n",
    "print(\"{:b}\".format(123))\n",
    "print(\"d:{:d}, o:{:o}, x:{:x}, e:{:e}, g:{:g}\".format(10,10,10,10000, 10**20))\n",
    "print(\"n:{:n}\".format(1234.3434))\n",
    "# 金融业\n",
    "print(\"{:,}\".format(123456789))\n",
    "# 日期处理\n",
    "d = datetime.datetime(2021,6,23,18,30,30)\n",
    "print(\"{:%Y-%m-%d %H:%M:%S }\".format(d))\n",
    "# 变形\n",
    "name = 112\n",
    "age = 23\n",
    "a = f\"{name}, {age}\"\n",
    "print(a)\n",
    "a = \"123321\"\n",
    "b = \"123321\"\n",
    "print(a ==b[::-1])"
   ],
   "metadata": {
    "collapsed": false,
    "pycharm": {
     "name": "#%%\n"
    }
   }
  }
 ],
 "metadata": {
  "kernelspec": {
   "display_name": "Python 3",
   "language": "python",
   "name": "python3"
  },
  "language_info": {
   "codemirror_mode": {
    "name": "ipython",
    "version": 2
   },
   "file_extension": ".py",
   "mimetype": "text/x-python",
   "name": "python",
   "nbconvert_exporter": "python",
   "pygments_lexer": "ipython2",
   "version": "2.7.6"
  }
 },
 "nbformat": 4,
 "nbformat_minor": 0
}