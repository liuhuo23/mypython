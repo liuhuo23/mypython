{
 "cells": [
  {
   "cell_type": "code",
   "execution_count": 2,
   "metadata": {
    "collapsed": true,
    "pycharm": {
     "name": "#%%\n"
    }
   },
   "outputs": [
    {
     "name": "stdout",
     "output_type": "stream",
     "text": [
      "3\n",
      "3\n",
      "10\n",
      "3\n",
      "3\n",
      "10\n"
     ]
    }
   ],
   "source": [
    "# 一个简单的函数\n",
    "def fun(a, b):\n",
    "    # 函数过程\n",
    "    return a+b\n",
    "    pass\n",
    "# 直接调用 此时会按照从左到右的顺序挨个赋值\n",
    "res = fun(1,2)\n",
    "print(res)\n",
    "# 关键字参数，没有顺序\n",
    "res = fun(a=1, b=2)\n",
    "print(res)\n",
    "# 默认参数， 默认参数必须放在非默认参数的右侧\n",
    "def fun(a,b,c=10):\n",
    "    return max(a,b,c)\n",
    "res =  fun(1,2)\n",
    "print(res)"
   ]
  },
  {
   "cell_type": "code",
   "execution_count": 3,
   "outputs": [
    {
     "name": "stdout",
     "output_type": "stream",
     "text": [
      "a= 1 b= 2 *args= (4, 5, 6, 'hello')\n"
     ]
    }
   ],
   "source": [
    "# 不定长参数\n",
    "# 不定长参数共有2种方式 *args **kwargs\n",
    "# args 元组传值： 多余的值会给到 *args 以元组形式\n",
    "def fun(a,b,*args):\n",
    "    print(\"a=\",a, end=\" \")\n",
    "    print(\"b=\",b, end=\" \")\n",
    "    print(\"*args=\", args)\n",
    "#测试\n",
    "fun(1,2,4,5,6,\"hello\")"
   ],
   "metadata": {
    "collapsed": false,
    "pycharm": {
     "name": "#%%\n"
    }
   }
  },
  {
   "cell_type": "code",
   "execution_count": 4,
   "outputs": [
    {
     "name": "stdout",
     "output_type": "stream",
     "text": [
      "1 2 3 (4,) {}\n",
      "1 2 3 () {'d': 4}\n",
      "1 2 3 (4,) {}\n",
      "1 2 3 (4, 5, 'hello') {'d': 1}\n"
     ]
    }
   ],
   "source": [
    "#  不定长参数，除了将数据类型存在元组以外，还可以将其存放再字典中，需要使用**来实现\n",
    "def fun(a,b,c=0,*args, **args1):\n",
    "    print(a,b,c,args, args1)\n",
    "# 测试\n",
    "fun(1,2,3,4)\n",
    "fun(1,2,c=3,d=4)\n",
    "\"\"\"\n",
    "给函数传值有两个关键，\n",
    "1. 可确定的，即能明确的将值传递给形参，而不会产生歧义\n",
    "2. 不可以重复，即参数的关键字不能重复\n",
    "\"\"\"\n",
    "fun(1,2,3,4)\n",
    "# 以上函数分别给 a,b,c 传完，然后剩下的给了 *args\n",
    "fun(1,2,3,4,5,\"hello\",d=1) # 这句话没问题"
   ],
   "metadata": {
    "collapsed": false,
    "pycharm": {
     "name": "#%%\n"
    }
   }
  },
  {
   "cell_type": "code",
   "execution_count": 6,
   "outputs": [
    {
     "ename": "TypeError",
     "evalue": "fun() got multiple values for argument 'a'",
     "output_type": "error",
     "traceback": [
      "\u001B[1;31m---------------------------------------------------------------------------\u001B[0m",
      "\u001B[1;31mTypeError\u001B[0m                                 Traceback (most recent call last)",
      "Input \u001B[1;32mIn [6]\u001B[0m, in \u001B[0;36m<module>\u001B[1;34m\u001B[0m\n\u001B[0;32m      1\u001B[0m \u001B[38;5;28;01mdef\u001B[39;00m \u001B[38;5;21mfun\u001B[39m(a,b,c\u001B[38;5;241m=\u001B[39m\u001B[38;5;241m0\u001B[39m,\u001B[38;5;241m*\u001B[39margs, \u001B[38;5;241m*\u001B[39m\u001B[38;5;241m*\u001B[39margs1):\n\u001B[0;32m      2\u001B[0m     \u001B[38;5;28mprint\u001B[39m(a,b,c,args, args1)\n\u001B[1;32m----> 3\u001B[0m \u001B[43mfun\u001B[49m\u001B[43m(\u001B[49m\u001B[38;5;241;43m1\u001B[39;49m\u001B[43m,\u001B[49m\u001B[38;5;241;43m2\u001B[39;49m\u001B[43m,\u001B[49m\u001B[38;5;241;43m3\u001B[39;49m\u001B[43m,\u001B[49m\u001B[38;5;241;43m4\u001B[39;49m\u001B[43m,\u001B[49m\u001B[38;5;241;43m5\u001B[39;49m\u001B[43m,\u001B[49m\u001B[38;5;124;43m\"\u001B[39;49m\u001B[38;5;124;43mhello\u001B[39;49m\u001B[38;5;124;43m\"\u001B[39;49m\u001B[43m,\u001B[49m\u001B[43ma\u001B[49m\u001B[38;5;241;43m=\u001B[39;49m\u001B[38;5;241;43m1\u001B[39;49m\u001B[43m)\u001B[49m\n",
      "\u001B[1;31mTypeError\u001B[0m: fun() got multiple values for argument 'a'"
     ]
    }
   ],
   "source": [
    "def fun(a,b,c=0,*args, **args1):\n",
    "    print(a,b,c,args, args1)\n",
    "fun(1,2,3,4,5,\"hello\",a=1)\n",
    "# 以上传参，先给了 a,b,c,然后剩下的给了 *args 但是又出现了a=1，这儿会报错，因为重复了"
   ],
   "metadata": {
    "collapsed": false,
    "pycharm": {
     "name": "#%%\n"
    }
   }
  },
  {
   "cell_type": "code",
   "execution_count": 22,
   "outputs": [
    {
     "name": "stdout",
     "output_type": "stream",
     "text": [
      "1 2 3\n",
      "1 2 3\n",
      "1 1 1\n",
      "1 1 2\n"
     ]
    }
   ],
   "source": [
    "\"\"\"\n",
    "相反的操作\n",
    "\"\"\"\n",
    "def fun(a,b,c):\n",
    "    print(a,b,c)\n",
    "parrm = (1,2,3)\n",
    "fun(*parrm)\n",
    "parrm = [1,2,3]\n",
    "fun(*parrm)\n",
    "dic = {\"a\":1,\"b\":1,\"c\":1}\n",
    "fun(**dic)\n",
    "# * ** 同时是信用\n",
    "# *必须在前\n",
    "fun(*(1,),**{\"b\":1,\"c\":2})"
   ],
   "metadata": {
    "collapsed": false,
    "pycharm": {
     "name": "#%%\n"
    }
   }
  },
  {
   "cell_type": "code",
   "execution_count": 30,
   "outputs": [
    {
     "name": "stdout",
     "output_type": "stream",
     "text": [
      "[1, 2, 3, 4]\n",
      "[1, 0, 3, 4]\n",
      "123\n",
      "123 1qer\n"
     ]
    }
   ],
   "source": [
    "# 传递不可变与可变对象\n",
    "# 所谓可变不可变指的是\n",
    "# 当创建一个变量 然后再赋值到另一个变量是什么赋值\n",
    "# 可变： 是通过指针赋值\n",
    "# 不可变： 是直接复制一份\n",
    "# 不可变类型 数字，字符串， 元组\n",
    "# 可变类型： 列表，字典, 集合\n",
    "# 可变类型做参数\n",
    "a = [1,2,3,4]\n",
    "print(a)\n",
    "def run(a):\n",
    "    a[1] = 0\n",
    "run(a)\n",
    "print(a)\n",
    "# 不可变类型\n",
    "a = \"123\"\n",
    "print(a)\n",
    "def run(a):\n",
    "    a = \"1qer\"\n",
    "    return a\n",
    "b = run(a)\n",
    "print(a,b)\n"
   ],
   "metadata": {
    "collapsed": false,
    "pycharm": {
     "name": "#%%\n"
    }
   }
  },
  {
   "cell_type": "code",
   "execution_count": 31,
   "outputs": [
    {
     "name": "stdout",
     "output_type": "stream",
     "text": [
      "1\n",
      "None\n"
     ]
    }
   ],
   "source": [
    "\"\"\"\n",
    "在Python中函数都是有返回值的\n",
    "\"\"\"\n",
    "def fun1():\n",
    "    return 1\n",
    "def fun2():\n",
    "    pass\n",
    "print(fun1())\n",
    "print(fun2())\n",
    "# 如果没有写return ，那么默认返回None"
   ],
   "metadata": {
    "collapsed": false,
    "pycharm": {
     "name": "#%%\n"
    }
   }
  },
  {
   "cell_type": "code",
   "execution_count": 41,
   "outputs": [
    {
     "name": "stdout",
     "output_type": "stream",
     "text": [
      "1qer\n",
      "8\n",
      "8\n"
     ]
    }
   ],
   "source": [
    "'''\n",
    "全局变量 通过关键字 global\n",
    "'''\n",
    "a = 99\n",
    "def func1():\n",
    "    global b\n",
    "    b = 8\n",
    "    print(b)\n",
    "func1()\n",
    "print(b)"
   ],
   "metadata": {
    "collapsed": false,
    "pycharm": {
     "name": "#%%\n"
    }
   }
  },
  {
   "cell_type": "code",
   "execution_count": null,
   "outputs": [],
   "source": [
    "\"\"\"\n",
    "内置函数 globals() 和 locals() 分别是 全局变量 局部变量\n",
    "\"\"\"\n",
    "print(globals())\n",
    "print(locals())"
   ],
   "metadata": {
    "collapsed": false,
    "pycharm": {
     "name": "#%%\n",
     "is_executing": true
    }
   }
  },
  {
   "cell_type": "code",
   "execution_count": 51,
   "outputs": [
    {
     "name": "stdout",
     "output_type": "stream",
     "text": [
      "<class 'function'>\n",
      "1785964069936 1785964069936\n",
      "这是一个函数 fun1\n",
      "这是一个函数 fun1\n",
      "这是一个函数 fun1\n"
     ]
    }
   ],
   "source": [
    "'''\n",
    "python 中一切皆对象，牢记\n",
    "因此， 函数也是一个对象\n",
    "'''\n",
    "def fun1():\n",
    "    print(\"这是一个函数 fun1\")\n",
    "    pass\n",
    "print(type(fun1))\n",
    "test = func1\n",
    "# 打印一下他们的id\n",
    "print(id(test), id(func1))\n",
    "\n",
    "# 基于以上，那么就意味着 一个函数可以作为另一个函数的参数\n",
    "def func2(test):\n",
    "    test()\n",
    "func2(fun1)\n",
    "\n",
    "# 一切皆对象 所以\n",
    "a = [fun1, fun1]\n",
    "for i in a:\n",
    "    i()"
   ],
   "metadata": {
    "collapsed": false,
    "pycharm": {
     "name": "#%%\n"
    }
   }
  },
  {
   "cell_type": "code",
   "execution_count": 53,
   "outputs": [
    {
     "name": "stdout",
     "output_type": "stream",
     "text": [
      "13\n",
      "2900\n"
     ]
    }
   ],
   "source": [
    "'''\n",
    "匿名函数  lambda [arg1,arg2,arg3] : 表达式\n",
    "'''\n",
    "sum = lambda num1,num2: num1+num2\n",
    "print(sum(4,9))\n",
    "# 带判断的lambda\n",
    "fn1 = lambda a,b: a if a>b else b\n",
    "print(fn1(299, 2900))"
   ],
   "metadata": {
    "collapsed": false,
    "pycharm": {
     "name": "#%%\n"
    }
   }
  },
  {
   "cell_type": "code",
   "execution_count": 57,
   "outputs": [
    {
     "name": "stdout",
     "output_type": "stream",
     "text": [
      "输出f2 函数\n",
      "输出f1 函数\n"
     ]
    }
   ],
   "source": [
    "'''\n",
    "闭包\n",
    "好处：\n",
    "1. 可以让一个局部变量常驻内存\n",
    "2. 防止其他程序修改这个变量\n",
    "'''\n",
    "def f2():\n",
    "    def f1():\n",
    "     print('输出f1 函数')\n",
    "    print('输出f2 函数')\n",
    "    return f1\n",
    "f1 = f2()\n",
    "f1()"
   ],
   "metadata": {
    "collapsed": false,
    "pycharm": {
     "name": "#%%\n"
    }
   }
  },
  {
   "cell_type": "code",
   "execution_count": 58,
   "outputs": [
    {
     "name": "stdout",
     "output_type": "stream",
     "text": [
      "2\n"
     ]
    }
   ],
   "source": [
    "'''\n",
    "装饰器本质上还是函数，让其他函数在不做任何代码修改的情况下，增加额外的功能\n",
    "'''\n",
    "def f2(func):\n",
    "    def f1():\n",
    "        return func() + 1\n",
    "    return f1\n",
    "\n",
    "@f2\n",
    "def func():\n",
    "    return 1\n",
    "print(func())"
   ],
   "metadata": {
    "collapsed": false,
    "pycharm": {
     "name": "#%%\n"
    }
   }
  },
  {
   "cell_type": "code",
   "execution_count": 59,
   "outputs": [
    {
     "name": "stdout",
     "output_type": "stream",
     "text": [
      "9\n"
     ]
    }
   ],
   "source": [
    "'''\n",
    "有参函数\n",
    "'''\n",
    "def f2(func):\n",
    "    def f1(a=0.,b=0):\n",
    "        return func(a,b) + 1\n",
    "    return f1\n",
    "@f2\n",
    "def func(a=0,b=0):\n",
    "    return a+b\n",
    "print(func(3,5))\n",
    "# 注意 f1 中的参数必须对应func 中的函数\n"
   ],
   "metadata": {
    "collapsed": false,
    "pycharm": {
     "name": "#%%\n"
    }
   }
  },
  {
   "cell_type": "code",
   "execution_count": 60,
   "outputs": [
    {
     "name": "stdout",
     "output_type": "stream",
     "text": [
      "hello\n",
      "2\n"
     ]
    }
   ],
   "source": [
    "'''\n",
    "带参数的装饰器\n",
    "'''\n",
    "def f1(arg = '装饰器参数'):\n",
    "    def f2(func):\n",
    "        def f1():\n",
    "            print(arg)\n",
    "            return func() + 1\n",
    "        return f1\n",
    "    return f2\n",
    "@f1('hello')\n",
    "def func():\n",
    "    return 1\n",
    "print(func())"
   ],
   "metadata": {
    "collapsed": false,
    "pycharm": {
     "name": "#%%\n"
    }
   }
  },
  {
   "cell_type": "code",
   "execution_count": 63,
   "outputs": [
    {
     "name": "stdout",
     "output_type": "stream",
     "text": [
      "num  * 2 结果为 4\n",
      "2\n"
     ]
    }
   ],
   "source": [
    "'''\n",
    "eval() 函数\n",
    "'''\n",
    "num = 2\n",
    "s = input(\"请输入包含num=2的表达式:\")\n",
    "print(s, \"结果为\",eval(s))\n",
    "# exec() 动态语句执行\n",
    "s = '''\n",
    "num = 2\n",
    "print(num)\n",
    "'''\n",
    "exec(s)"
   ],
   "metadata": {
    "collapsed": false,
    "pycharm": {
     "name": "#%%\n"
    }
   }
  },
  {
   "cell_type": "code",
   "execution_count": 65,
   "outputs": [
    {
     "name": "stdout",
     "output_type": "stream",
     "text": [
      "<code object <module> at 0x0000019FD2D0E450, file \"\", line 1>\n",
      "2\n"
     ]
    }
   ],
   "source": [
    "\"\"\"\n",
    "compile(source, filename, mode, flags=0, dont_inherit=False, optimize=-1)\n",
    "source 代码语句的字符串\n",
    "filename  代码文件名称\n",
    "mode 指定编译代码的种类 exec eval single\n",
    "\n",
    "\"\"\"\n",
    "str1 = \"print(2)\"\n",
    "res = compile(str1,\"\", 'exec' )\n",
    "print(res)\n",
    "exec(res)"
   ],
   "metadata": {
    "collapsed": false,
    "pycharm": {
     "name": "#%%\n"
    }
   }
  },
  {
   "cell_type": "code",
   "execution_count": 8,
   "outputs": [
    {
     "name": "stdout",
     "output_type": "stream",
     "text": [
      "[1, 2, 3, 8, 3]\n"
     ]
    }
   ],
   "source": [
    "'''\n",
    "filter() 函对指定序列进行过滤操作，函数语法格式\n",
    "filter(function, sequence)\n",
    "function为函数名， 引用的函数只能接受一个参数 并且返回值是bool\n",
    "'''\n",
    "list_num = [1, 2, 3, 0, 8, 0, 3]\n",
    "print(list(filter(lambda x: x, list_num)))\n"
   ],
   "metadata": {
    "collapsed": false,
    "pycharm": {
     "name": "#%%\n"
    }
   }
  },
  {
   "cell_type": "code",
   "execution_count": 9,
   "outputs": [
    {
     "name": "stdout",
     "output_type": "stream",
     "text": [
      "[12, 14, 16, 18]\n"
     ]
    }
   ],
   "source": [
    "'''\n",
    "map() 映射函数\n",
    "语法： map(function, iterable) 可以对迭代对象中的每一个元素进行映射，分别执行function\n",
    "'''\n",
    "list1 = [1,2,3,4]\n",
    "func = lambda x,y: x+10+y\n",
    "list2 = list(map(func, list1,list1))\n",
    "print(list2)\n",
    "# map 后面的可迭代变量 对应前面函数的参数的个数\n"
   ],
   "metadata": {
    "collapsed": false,
    "pycharm": {
     "name": "#%%\n"
    }
   }
  },
  {
   "cell_type": "code",
   "execution_count": 10,
   "outputs": [
    {
     "name": "stdout",
     "output_type": "stream",
     "text": [
      "[(1, '心思执行'), (2, '人工只能'), (3, '用心做教育')]\n"
     ]
    }
   ],
   "source": [
    "'''\n",
    "zip()函数用于将一系列可迭代的对象作为参数，将对象左手昂应该的元素打包成一个个元组，然后返回这些元组组成的迭代对象\n",
    "'''\n",
    "list1, list2 = [1,2,3] ,['心思执行', '人工只能', '用心做教育']\n",
    "list3 = list(zip(list1,list2))\n",
    "print(list3)"
   ],
   "metadata": {
    "collapsed": false,
    "pycharm": {
     "name": "#%%\n"
    }
   }
  },
  {
   "cell_type": "code",
   "execution_count": 15,
   "outputs": [
    {
     "name": "stdout",
     "output_type": "stream",
     "text": [
      "1\n",
      "2\n",
      "3\n",
      "4\n",
      "1\n",
      "2\n",
      "3\n",
      "4\n",
      "5\n",
      "6\n",
      "7\n",
      "8\n",
      "9\n",
      "10\n",
      "11\n",
      "12\n",
      "13\n",
      "14\n",
      "15\n",
      "16\n",
      "17\n",
      "18\n",
      "19\n"
     ]
    }
   ],
   "source": [
    "'''\n",
    "可迭代对象； str list tuple set dict\n",
    "以上的数据类型中都有一个函数 iter() 都是可迭代的数据类型\n",
    "__iter__() 调用迭代  __next__()取数据\n",
    "'''\n",
    "class MyNumber:\n",
    "    def __iter__(self):\n",
    "        self.a = 1\n",
    "        return self\n",
    "\n",
    "    def __next__(self):\n",
    "        if self.a < 20:\n",
    "            x = self.a\n",
    "            self.a += 1\n",
    "            return x\n",
    "        else:\n",
    "            raise StopIteration\n",
    "myclass = MyNumber()\n",
    "myiter = iter(myclass)\n",
    "print(next(myiter))\n",
    "print(next(myiter));print(next(myiter))\n",
    "print(next(myiter))\n",
    "\"\"\"\n",
    "如果你有足够的next() 语句，或者在for循环中使用，则上面的例子将永远进行下去\n",
    "因此需要引入 StopIteration 语句\n",
    "\"\"\"\n",
    "for i in myclass:\n",
    "    print(i)\n"
   ],
   "metadata": {
    "collapsed": false,
    "pycharm": {
     "name": "#%%\n"
    }
   }
  },
  {
   "cell_type": "code",
   "execution_count": 24,
   "outputs": [
    {
     "name": "stdout",
     "output_type": "stream",
     "text": [
      "222\n",
      "a\n",
      "1\n",
      "b\n",
      "b\n",
      "c\n"
     ]
    },
    {
     "data": {
      "text/plain": "'\\nsend 和next 都是让生成器 向下走一次\\nsend 可以给上一个 yield 的位置传值\\n'"
     },
     "execution_count": 24,
     "metadata": {},
     "output_type": "execute_result"
    }
   ],
   "source": [
    "\"\"\"\n",
    "生成器 实质是 迭代器\n",
    "\"\"\"\n",
    "def func():\n",
    "    yield 222\n",
    "gener = func()\n",
    "ret = gener.__next__()\n",
    "print(ret)\n",
    "# send 方法\n",
    "def eat():\n",
    "    a = yield \"a\"\n",
    "    print(a)\n",
    "    b = yield \"b\"\n",
    "    print(b)\n",
    "    c= yield \"c\"\n",
    "    print(c)\n",
    "gen = eat()\n",
    "ret1 = gen.__next__()\n",
    "print(ret1)\n",
    "ret2 = gen.send(\"1\")\n",
    "print(ret2)\n",
    "ret2 = gen.send(\"b\")\n",
    "print(ret2)\n",
    "\"\"\"\n",
    "send 和next 都是让生成器 向下走一次\n",
    "send 可以给上一个 yield 的位置传值\n",
    "\"\"\""
   ],
   "metadata": {
    "collapsed": false,
    "pycharm": {
     "name": "#%%\n"
    }
   }
  },
  {
   "cell_type": "code",
   "execution_count": 28,
   "outputs": [
    {
     "name": "stdout",
     "output_type": "stream",
     "text": [
      "b'\\x80\\x04\\x95\\r\\x00\\x00\\x00\\x00\\x00\\x00\\x00]\\x94(K\\x01K\\x03K\\x04K\\x05e.'\n"
     ]
    }
   ],
   "source": [
    "\"\"\"\n",
    "序列化模块\n",
    "将原本的字典，列表等内容转黄成一个字符串的过程叫序列化\n",
    "json, 用户字符串和Python数据类型间进行转换\n",
    "pickle, 用于Python特有的类型和Python的数据类型间进行转换\n",
    "json\n",
    "dumps dict -> str\n",
    "dump dict -> file\n",
    "loads str -> dict\n",
    "load file -> dict\n",
    "pickle:\n",
    "dumps dict -> str\n",
    "dump dict -> file\n",
    "loads str -> dict\n",
    "load file -> dict\n",
    "\"\"\"\n",
    "import pickle\n",
    "dic =[1,3,4,5]\n",
    "str_dic = pickle.dumps(dic)\n",
    "print(str_dic)"
   ],
   "metadata": {
    "collapsed": false,
    "pycharm": {
     "name": "#%%\n"
    }
   }
  }
 ],
 "metadata": {
  "kernelspec": {
   "display_name": "Python 3",
   "language": "python",
   "name": "python3"
  },
  "language_info": {
   "codemirror_mode": {
    "name": "ipython",
    "version": 2
   },
   "file_extension": ".py",
   "mimetype": "text/x-python",
   "name": "python",
   "nbconvert_exporter": "python",
   "pygments_lexer": "ipython2",
   "version": "2.7.6"
  }
 },
 "nbformat": 4,
 "nbformat_minor": 0
}